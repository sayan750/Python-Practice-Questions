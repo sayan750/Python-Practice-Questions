{
 "cells": [
  {
   "cell_type": "markdown",
   "id": "d867e435",
   "metadata": {},
   "source": [
    "### 1. Write a Python program that defines a function called \"add_numbers\" that takes two arguments (i.e., numbers) and returns their sum. Within the function, add the two numbers together and return the result using the return statement. Call the function with the values 5 and 6, and print out the returned result. This will result in the addition of 5 and 6, with the output of the program being the sum of these two numbers."
   ]
  },
  {
   "cell_type": "code",
   "execution_count": 1,
   "id": "2ce24db0",
   "metadata": {},
   "outputs": [],
   "source": [
    "def add_numbers(x,y):\n",
    "    return x+y"
   ]
  },
  {
   "cell_type": "code",
   "execution_count": 2,
   "id": "2c4d47f6",
   "metadata": {},
   "outputs": [
    {
     "data": {
      "text/plain": [
       "11"
      ]
     },
     "execution_count": 2,
     "metadata": {},
     "output_type": "execute_result"
    }
   ],
   "source": [
    "add_numbers(5,6)"
   ]
  },
  {
   "cell_type": "markdown",
   "id": "dac1e88c",
   "metadata": {},
   "source": [
    "### 2. Write a Python program that calculates the square root of a given number using a built-in function. Specifically, the program should take an integer or float input from the user, calculate its square root using the 'sqrt()' function from the 'math' module, and print out the result to the user. As an example, calculate the square root of the number 625 using this program, which should output the value of 25."
   ]
  },
  {
   "cell_type": "code",
   "execution_count": 3,
   "id": "2ea06545",
   "metadata": {},
   "outputs": [],
   "source": [
    "import math\n",
    "\n",
    "number = 625\n",
    "sqr_root = math.sqrt(number)"
   ]
  },
  {
   "cell_type": "code",
   "execution_count": 4,
   "id": "44d23914",
   "metadata": {},
   "outputs": [
    {
     "name": "stdout",
     "output_type": "stream",
     "text": [
      "The square root of 625 is 25.0\n"
     ]
    }
   ],
   "source": [
    "print(\"The square root of\", number, \"is\", sqr_root)"
   ]
  },
  {
   "cell_type": "markdown",
   "id": "4dbc2e2d",
   "metadata": {},
   "source": [
    "### 3. Write a program that prints all prime numbers between 0 to 50."
   ]
  },
  {
   "cell_type": "code",
   "execution_count": 5,
   "id": "b610908c",
   "metadata": {},
   "outputs": [
    {
     "name": "stdout",
     "output_type": "stream",
     "text": [
      "2\n",
      "3\n",
      "5\n",
      "7\n",
      "11\n",
      "13\n",
      "17\n",
      "19\n",
      "23\n",
      "29\n",
      "31\n",
      "37\n",
      "41\n",
      "43\n",
      "47\n"
     ]
    }
   ],
   "source": [
    "for number in range(2,51):\n",
    "    is_prime = True\n",
    "    for i in range(2,number):\n",
    "        if number %i == 0:\n",
    "            is_prime = False\n",
    "            break\n",
    "    if is_prime:\n",
    "        print(number)"
   ]
  },
  {
   "cell_type": "markdown",
   "id": "311b4823",
   "metadata": {},
   "source": [
    "### 4. How can we swap the values of three variables (let's say a, b, and c) without using a fourth variable? For example, if we have a=5, b=8, and c=9, how can we obtain a=9, b=5, and c=8? The challenge is to perform this operation without using an additional variable to store any of the values during the swapping process."
   ]
  },
  {
   "cell_type": "code",
   "execution_count": 6,
   "id": "d9d3e9a5",
   "metadata": {},
   "outputs": [
    {
     "name": "stdout",
     "output_type": "stream",
     "text": [
      "a = 9\n",
      "b =  5\n",
      "c =  8\n"
     ]
    }
   ],
   "source": [
    "a = 5\n",
    "b = 8\n",
    "c = 9\n",
    "\n",
    "a,b,c = c,a,b\n",
    "\n",
    "print(\"a =\", a)\n",
    "print(\"b = \", b)\n",
    "print(\"c = \", c)"
   ]
  },
  {
   "cell_type": "markdown",
   "id": "3e20d03b",
   "metadata": {},
   "source": [
    "### 5. Can you write a program that determines the nature of a given number (in this case, 87) as being positive, negative, or zero? The program should be designed to take the number as input and perform the necessary calculations to determine if the number is positive (i.e., greater than zero), negative (i.e., less than zero), or zero (i.e., equal to zero). The output of the program should indicate which of these three categories the given number falls into."
   ]
  },
  {
   "cell_type": "code",
   "execution_count": 7,
   "id": "5bebc4fd",
   "metadata": {},
   "outputs": [
    {
     "name": "stdout",
     "output_type": "stream",
     "text": [
      "The number is positive\n"
     ]
    }
   ],
   "source": [
    "num = 87\n",
    "\n",
    "if num > 0:\n",
    "    print(\"The number is positive\")\n",
    "elif num < 0:\n",
    "    print(\"The number is negative\")\n",
    "elif num == 0:\n",
    "    print(\"The number is zero\")"
   ]
  },
  {
   "cell_type": "markdown",
   "id": "73139cdd",
   "metadata": {},
   "source": [
    "### 6. How can you create a program that determines whether a given number (in this case, 98) is even or odd? The program should be designed to take the number as input and perform the necessary calculations to determine whether it is divisible by two. If the number is divisible by two without leaving a remainder, it is an even number, and if there is a remainder, it is an odd number. The output of the program should indicate whether the given number is even or odd."
   ]
  },
  {
   "cell_type": "code",
   "execution_count": 8,
   "id": "5a20c103",
   "metadata": {},
   "outputs": [
    {
     "name": "stdout",
     "output_type": "stream",
     "text": [
      "The number is even\n"
     ]
    }
   ],
   "source": [
    "num = 98\n",
    "\n",
    "if num%2 == 0:\n",
    "    print(\"The number is even\")\n",
    "else:\n",
    "    print(\"The number is odd\")"
   ]
  },
  {
   "cell_type": "markdown",
   "id": "88a06a89",
   "metadata": {},
   "source": [
    "### 7. Write a program for sum of digits.the digits are 76543 and the output should be 25."
   ]
  },
  {
   "cell_type": "code",
   "execution_count": 9,
   "id": "1907b06b",
   "metadata": {},
   "outputs": [],
   "source": [
    "num = 76543\n",
    "sum = 0\n",
    "\n",
    "while num > 0:\n",
    "    digit = num % 10\n",
    "    sum += digit\n",
    "    num //= 10"
   ]
  },
  {
   "cell_type": "code",
   "execution_count": 10,
   "id": "fa3e01d3",
   "metadata": {},
   "outputs": [
    {
     "name": "stdout",
     "output_type": "stream",
     "text": [
      "Sum of digits are 25\n"
     ]
    }
   ],
   "source": [
    "print(\"Sum of digits are\", sum)"
   ]
  },
  {
   "cell_type": "markdown",
   "id": "59778332",
   "metadata": {},
   "source": [
    "### 8. Write a program for reversing the given number 5436 and the output should be 6345."
   ]
  },
  {
   "cell_type": "code",
   "execution_count": 11,
   "id": "f51085d8",
   "metadata": {},
   "outputs": [
    {
     "name": "stdout",
     "output_type": "stream",
     "text": [
      "6345\n"
     ]
    }
   ],
   "source": [
    "num = 5436\n",
    "\n",
    "reverse = str(num)[::-1]\n",
    "\n",
    "reverse_num = int(reverse)\n",
    "\n",
    "print(reverse_num)"
   ]
  },
  {
   "cell_type": "markdown",
   "id": "8014d28c",
   "metadata": {},
   "source": [
    "**or**"
   ]
  },
  {
   "cell_type": "code",
   "execution_count": 12,
   "id": "d2ef6241",
   "metadata": {},
   "outputs": [
    {
     "name": "stdout",
     "output_type": "stream",
     "text": [
      "The reversed number is: 6345\n"
     ]
    }
   ],
   "source": [
    "num = 5436\n",
    "reverse = 0\n",
    "\n",
    "while num > 0:\n",
    "    # Extract the rightmost digit of the number\n",
    "    digit = num % 10\n",
    "    \n",
    "    # Add the extracted digit to the reverse number\n",
    "    reverse = (reverse * 10) + digit\n",
    "    \n",
    "    # Remove the rightmost digit from the number\n",
    "    num //= 10\n",
    "\n",
    "print(\"The reversed number is:\", reverse)"
   ]
  },
  {
   "cell_type": "markdown",
   "id": "ebd61c3e",
   "metadata": {},
   "source": [
    "### 9. Write a program to check a given number 371 is an Armstrong number?"
   ]
  },
  {
   "cell_type": "code",
   "execution_count": 13,
   "id": "7f59bf6a",
   "metadata": {},
   "outputs": [],
   "source": [
    "num = 371\n",
    "\n",
    "num_digit = len(str(num))\n",
    "sum = 0\n",
    "\n",
    "i = num\n",
    "\n",
    "while i > 0:\n",
    "    digit = i%10\n",
    "    sum += digit ** num_digit\n",
    "    i //=10    "
   ]
  },
  {
   "cell_type": "code",
   "execution_count": 14,
   "id": "ea6f8941",
   "metadata": {},
   "outputs": [
    {
     "name": "stdout",
     "output_type": "stream",
     "text": [
      "371 is an Armstrong number\n"
     ]
    }
   ],
   "source": [
    "if num == sum:\n",
    "    print(num, \"is an Armstrong number\")\n",
    "else:\n",
    "    print(num, \"is not an Armstrong number\")"
   ]
  },
  {
   "cell_type": "markdown",
   "id": "8f196a3e",
   "metadata": {},
   "source": [
    "### 10. Write a program the given year is 1996 a leap year."
   ]
  },
  {
   "cell_type": "code",
   "execution_count": 21,
   "id": "6a43dc17",
   "metadata": {},
   "outputs": [
    {
     "name": "stdout",
     "output_type": "stream",
     "text": [
      "1996 is a leap year\n"
     ]
    }
   ],
   "source": [
    "year = 1996\n",
    "\n",
    "if (year % 4 == 0 and year % 100 != 0) or ( year % 400 == 0):\n",
    "    print(year,\"is a leap year\")\n",
    "else:\n",
    "    print(year,\"is not a leap year\")"
   ]
  },
  {
   "cell_type": "markdown",
   "id": "c8ab145d",
   "metadata": {},
   "source": [
    "**or**"
   ]
  },
  {
   "cell_type": "code",
   "execution_count": 22,
   "id": "69ea1fb2",
   "metadata": {},
   "outputs": [
    {
     "name": "stdout",
     "output_type": "stream",
     "text": [
      "1996 is a leap year\n"
     ]
    }
   ],
   "source": [
    "year = 1996\n",
    "\n",
    "if year % 4 == 0:\n",
    "    if year % 100 == 0:\n",
    "        if year % 400 == 0:\n",
    "            print(f\"{year} is a leap year\")\n",
    "        else:\n",
    "            print(f\"{year} is not a leap year\")\n",
    "    else:\n",
    "        print(f\"{year} is a leap year\")\n",
    "else:\n",
    "    print(f\"{year} is not a leap year\")"
   ]
  },
  {
   "cell_type": "code",
   "execution_count": null,
   "id": "d3ba95d3",
   "metadata": {},
   "outputs": [],
   "source": []
  }
 ],
 "metadata": {
  "kernelspec": {
   "display_name": "Python 3 (ipykernel)",
   "language": "python",
   "name": "python3"
  },
  "language_info": {
   "codemirror_mode": {
    "name": "ipython",
    "version": 3
   },
   "file_extension": ".py",
   "mimetype": "text/x-python",
   "name": "python",
   "nbconvert_exporter": "python",
   "pygments_lexer": "ipython3",
   "version": "3.9.13"
  }
 },
 "nbformat": 4,
 "nbformat_minor": 5
}
